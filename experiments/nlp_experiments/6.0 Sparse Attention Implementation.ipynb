{
 "cells": [
  {
   "cell_type": "code",
   "execution_count": 1,
   "id": "8f7ff890",
   "metadata": {},
   "outputs": [],
   "source": [
    "import sys\n",
    "sys.path.insert(0, '../../')"
   ]
  },
  {
   "cell_type": "code",
   "execution_count": 2,
   "id": "f70c3a00",
   "metadata": {},
   "outputs": [],
   "source": [
    "import numpy as np\n",
    "import pandas as pd\n",
    "import matplotlib.pyplot as plt\n",
    "from typing import List, Tuple, Union\n",
    "\n",
    "import candle\n",
    "from candle import Module, Tensor\n",
    "import candle.functions as F"
   ]
  },
  {
   "attachments": {},
   "cell_type": "markdown",
   "id": "1b4ce8f1-18ab-40a5-a15e-a6234c8e26b9",
   "metadata": {},
   "source": [
    "## Sparse Attention Implementation\n",
    "\n",
    "The key idea for an efficient implementation is, if we slice out the sequence into blocks, then `fixed` sparse attention only requires attending to elements in the **same block**, while `strided` only requires attending to the **same block** and **previous block**.\n",
    "\n",
    "(note: I'm not sure if this is how the official repo does it, this is just my personal implementation)"
   ]
  },
  {
   "attachments": {
    "452af01b-704f-4c8b-9564-3a2dc1d037cd.png": {
     "image/png": "[encoded data removed]"
    }
   },
   "cell_type": "markdown",
   "id": "35aed80f-b697-482e-aeb4-3d30436a089e",
   "metadata": {},
   "source": [
    "![image.png](attachment:452af01b-704f-4c8b-9564-3a2dc1d037cd.png)\n",
    "<br /><sup>(Figure modified from [Generating Long Sequences with Sparse Transformers, Rewon Child & Scott Gray & Alec Radford & Ilya Sutskever 2019](](https://arxiv.org/pdf/1904.10509.pdf)))</sup>"
   ]
  },
  {
   "cell_type": "markdown",
   "id": "2c849b7c-4470-45cd-8ffd-a50792fcbc84",
   "metadata": {},
   "source": [
    "## (0) Contents\n",
    "\n",
    "* [(1) Fixed Sparse Attention](#(1)-Fixed-Sparse-Attention)\n",
    "* [(2) Strided Sparse Attention](#(2)-Strided-Sparse-Attention)\n",
    "* [(3) Visualize Attention Implementations](#(3)-Visualize-Attention-Implementations)"
   ]
  },
  {
   "cell_type": "markdown",
   "id": "8bf08411-60d7-4dc5-b8e5-b3a53ad9c2f0",
   "metadata": {},
   "source": [
    "## (1) Fixed Sparse Attention"
   ]
  },
  {
   "cell_type": "code",
   "execution_count": 3,
   "id": "23fb7b8a-17dd-4338-a91b-d63cdfaac91f",
   "metadata": {},
   "outputs": [],
   "source": [
    "class FixedSparseAttention(Module):\n",
    "    \"\"\"Fixed sparse autoregressive attention.\"\"\"\n",
    "    \n",
    "    def __init__(self,\n",
    "                 block_size: int):\n",
    "        super().__init__()\n",
    "        self.block_size = block_size\n",
    "        \n",
    "        \n",
    "    def forward(self,\n",
    "                query: Tensor,\n",
    "                key: Tensor,\n",
    "                value: Tensor):\n",
    "        \"\"\"Does attention aggregation.\n",
    "        \n",
    "        Args:\n",
    "            query, key, value (Tensor): shape (batch, seqlen, embed_dim)\n",
    "                seqlen must be divisible by block_size.\n",
    "            \n",
    "        Returns:\n",
    "            Tensor: attn_output with shape (batch, seqlen, embed_dim)\n",
    "            \n",
    "        \"\"\"\n",
    "        (batch, seqlen, embed_dim) = query.shape\n",
    "        n_blocks = seqlen // self.block_size\n",
    "\n",
    "        # shape (batch, n_blocks, block_size, embed_dim)\n",
    "        query = reshape_into_subblocks(query, self.block_size)\n",
    "        key = reshape_into_subblocks(key, self.block_size)\n",
    "        value = reshape_into_subblocks(value, self.block_size)\n",
    "\n",
    "        # Attend to current subblock\n",
    "\n",
    "        # shape (batch, n_blocks, block_size, block_size)\n",
    "        logits = F.bmm(query, key.transpose(-1, -2)) / np.sqrt(embed_dim)\n",
    "        \n",
    "        causal_attn_mask = Tensor(1 - np.tri(self.block_size))\n",
    "        logits = F.masked_fill(logits, causal_attn_mask, fill_value=-1e9)\n",
    "\n",
    "        # Aggregate by subblock\n",
    "        \n",
    "        attn_scores = F.softmax(logits)\n",
    "        attn_output = F.bmm(attn_scores, value)\n",
    "        \n",
    "        attn_output = attn_output.reshape((batch, seqlen, embed_dim))\n",
    "        \n",
    "        return attn_output\n",
    "        \n",
    "        \n",
    "    def __repr__(self):\n",
    "        return f'FixedSparseAttention(dropout={self.block_size})'\n",
    "\n",
    "\n",
    "def reshape_into_subblocks(x: Tensor, block_size: int):\n",
    "    \"\"\"Transposes a Tensor x into sub-blocks.\n",
    "\n",
    "    Args:\n",
    "        x: shape (batch, seqlen, embed_dim)\n",
    "        block_size: size of sub-blocks.\n",
    "\n",
    "    Returns\n",
    "        Tensor: shape (batch, seqlen // subblocks, subblocks, embed_dim)\n",
    "    \n",
    "    \"\"\"\n",
    "    (batch, seqlen, embed_dim) = x.shape\n",
    "    \n",
    "    if seqlen % block_size != 0:\n",
    "        raise ValueError(f'seqlen dimension = {seqlen} must be divisible by block_size = {block_size}.')\n",
    "\n",
    "    x = x.reshape((batch, seqlen // block_size, block_size, embed_dim))\n",
    "\n",
    "    return x"
   ]
  },
  {
   "cell_type": "markdown",
   "id": "c48bd91c-692e-477a-9529-3d687105b85e",
   "metadata": {},
   "source": [
    "## (2) Strided Sparse Attention"
   ]
  },
  {
   "cell_type": "code",
   "execution_count": 4,
   "id": "c5ee65b5-6602-42c7-9b00-ee7fbe2ab3b0",
   "metadata": {},
   "outputs": [],
   "source": [
    "class StridedSparseAttention(Module):\n",
    "    \"\"\"Strided sparse autoregressive attention.\"\"\"\n",
    "    \n",
    "    def __init__(self,\n",
    "                 block_size: int):\n",
    "        super().__init__()\n",
    "        self.block_size = block_size\n",
    "        \n",
    "        \n",
    "    def forward(self,\n",
    "                query: Tensor,\n",
    "                key: Tensor,\n",
    "                value: Tensor):\n",
    "        \"\"\"Does attention aggregation.\n",
    "        \n",
    "        Args:\n",
    "            query, key, value (Tensor): shape (batch, seqlen, embed_dim)\n",
    "                seqlen must be divisible by block_size.\n",
    "            \n",
    "        Returns:\n",
    "            Tensor: attn_output with shape (batch, seqlen, embed_dim)\n",
    "            \n",
    "        \"\"\"\n",
    "        NEG_INF = -1e9\n",
    "        (batch, seqlen, embed_dim) = query.shape\n",
    "        n_blocks = seqlen // self.block_size\n",
    "\n",
    "        # shape (batch, n_blocks, block_size, embed_dim)\n",
    "        query = reshape_into_subblocks(query, self.block_size)\n",
    "        key = reshape_into_subblocks(key, self.block_size)\n",
    "        value = reshape_into_subblocks(value, self.block_size)\n",
    "        \n",
    "        query_prev = query[:, 1:]\n",
    "        key_prev = key[:, :-1]\n",
    "        value_prev = value[:, :-1]\n",
    "        \n",
    "        # Attend to current subblock\n",
    "\n",
    "        # shape (batch, n_blocks, block_size, block_size)\n",
    "        logits = F.bmm(query, key.transpose(-1, -2)) / np.sqrt(embed_dim)\n",
    "        \n",
    "        causal_attn_mask = Tensor(1 - np.tri(self.block_size))\n",
    "        logits = F.masked_fill(logits, causal_attn_mask, fill_value=-1e9)\n",
    "        \n",
    "        # Attend to previous subblock\n",
    "\n",
    "        # shape (batch, n_blocks - 1, block_size, block_size)\n",
    "        logits_prev = F.bmm(query_prev, key_prev.transpose(-1, -2)) / np.sqrt(embed_dim)\n",
    "        \n",
    "        prev_attn_mask = Tensor(np.tri(self.block_size))\n",
    "        logits_prev = F.masked_fill(logits_prev, prev_attn_mask, fill_value=NEG_INF)\n",
    "\n",
    "        # pad to shape (batch, n_blocks, block_size, block_size)\n",
    "        neg_inf = Tensor(NEG_INF * np.ones((batch, 1, self.block_size, self.block_size)))\n",
    "        logits_prev = F.concat([neg_inf, logits_prev], axis=1)\n",
    "        \n",
    "        # Aggregate attention between previous and current subblocks\n",
    "\n",
    "        # shape (batch, n_blocks, block_size, 2 * block_size)\n",
    "        logits_prev_and_curr = F.concat([logits_prev, logits], axis=-1)\n",
    "        attn_scores = F.softmax(logits_prev_and_curr)\n",
    "        \n",
    "        (attn_scores_prev, attn_scores) = attn_scores.split([self.block_size, self.block_size],\n",
    "                                                            axis=-1)\n",
    "        \n",
    "        attn_output = F.bmm(attn_scores, value)\n",
    "        attn_output_prev = F.bmm(attn_scores_prev[:, 1:], value_prev)\n",
    "        \n",
    "        attn_output[:, 1:] += attn_output_prev\n",
    "        attn_output = attn_output.reshape((batch, seqlen, embed_dim))\n",
    "\n",
    "        return attn_output\n",
    "        \n",
    "        \n",
    "    def __repr__(self):\n",
    "        return f'StridedSparseAttention(dropout={self.block_size})'"
   ]
  },
  {
   "cell_type": "markdown",
   "id": "c66d498d-ac25-4111-8d82-342cda75b29c",
   "metadata": {},
   "source": [
    "## (3) Visualize Attention Implementations\n",
    "We test our implementations via visualization."
   ]
  },
  {
   "cell_type": "code",
   "execution_count": 3,
   "id": "b5388a5e-43b4-4dc9-9278-42cb161bd194",
   "metadata": {},
   "outputs": [],
   "source": [
    "def visualize_attention(attn_layer: Module, seqlen: int):\n",
    "    \"\"\"Visualize attention scores.\"\"\"\n",
    "    embed_dim = 32\n",
    "    \n",
    "    query = candle.rand(1, seqlen, embed_dim)\n",
    "    key = candle.rand(1, seqlen, embed_dim)\n",
    "    value = candle.rand(1, seqlen, embed_dim)\n",
    "    \n",
    "    attn_output = attn_layer.forward(query, key, value)\n",
    "    \n",
    "    # Perturb the value, and see which elements in the output respond\n",
    "    \n",
    "    attn_scores = []\n",
    "    for i in range(seqlen):\n",
    "        value_perturbed = value.clone()\n",
    "        value_perturbed[:, i, :] += 10 * candle.rand(1, embed_dim)\n",
    "        \n",
    "        perturbed_attn_output = attn_layer.forward(query, key, value_perturbed)\n",
    "        \n",
    "        delta = attn_output - perturbed_attn_output\n",
    "        delta_at_indices = np.abs(delta.data).sum(axis=(0, 2))\n",
    "        \n",
    "        attn_scores.append(delta_at_indices > 1e-9)\n",
    "    \n",
    "    attn_scores = np.stack(attn_scores).T\n",
    "    \n",
    "    # Visualize attention\n",
    "    \n",
    "    plt.imshow(attn_scores)\n",
    "    plt.xticks(range(seqlen))\n",
    "    plt.show()"
   ]
  },
  {
   "cell_type": "code",
   "execution_count": null,
   "id": "ac49b1d0-11e4-4aaa-96a9-3caaa6923f23",
   "metadata": {},
   "outputs": [],
   "source": []
  },
  {
   "cell_type": "code",
   "execution_count": 6,
   "id": "e0c977f5-af08-4206-b37f-12b2296dc56c",
   "metadata": {},
   "outputs": [
    {
     "data": {
      "image/png": "[encoded data removed]",
      "text/plain": [
       "<Figure size 640x480 with 1 Axes>"
      ]
     },
     "metadata": {},
     "output_type": "display_data"
    }
   ],
   "source": [
    "# Fixed Sparse Attention\n",
    "\n",
    "visualize_attention(attn_layer=FixedSparseAttention(block_size=4),\n",
    "                    seqlen=16)"
   ]
  },
  {
   "cell_type": "code",
   "execution_count": 7,
   "id": "b5c8952e-63e8-4a2f-8298-c0532e0a01e3",
   "metadata": {},
   "outputs": [
    {
     "data": {
      "image/png": "[encoded data removed]",
      "text/plain": [
       "<Figure size 640x480 with 1 Axes>"
      ]
     },
     "metadata": {},
     "output_type": "display_data"
    }
   ],
   "source": [
    "# Strided Sparse Attention\n",
    "\n",
    "visualize_attention(attn_layer=StridedSparseAttention(block_size=4),\n",
    "                    seqlen=16)"
   ]
  },
  {
   "cell_type": "code",
   "execution_count": null,
   "id": "14f27303-aea4-4b5a-81cb-d4af1161669d",
   "metadata": {},
   "outputs": [],
   "source": []
  },
  {
   "cell_type": "code",
   "execution_count": null,
   "id": "46842650-abd9-4330-ac6c-f6c71a08d9ac",
   "metadata": {},
   "outputs": [],
   "source": []
  }
 ],
 "metadata": {
  "kernelspec": {
   "display_name": "Python 3 (ipykernel)",
   "language": "python",
   "name": "python3"
  },
  "language_info": {
   "codemirror_mode": {
    "name": "ipython",
    "version": 3
   },
   "file_extension": ".py",
   "mimetype": "text/x-python",
   "name": "python",
   "nbconvert_exporter": "python",
   "pygments_lexer": "ipython3",
   "version": "3.11.5"
  }
 },
 "nbformat": 4,
 "nbformat_minor": 5
}
